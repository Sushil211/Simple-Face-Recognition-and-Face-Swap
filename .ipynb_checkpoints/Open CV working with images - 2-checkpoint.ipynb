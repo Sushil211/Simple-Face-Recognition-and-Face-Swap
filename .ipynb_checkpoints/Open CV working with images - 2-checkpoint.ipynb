{
 "cells": [
  {
   "cell_type": "code",
   "execution_count": 14,
   "metadata": {},
   "outputs": [],
   "source": [
    "import cv2\n",
    "\n",
    "img = cv2.imread('dog.png')\n",
    "cv2.imshow('Dog Image',img) #This string is just the description about your image\n",
    "\n",
    "gray = cv2.imread('dog.png',cv2.IMREAD_GRAYSCALE) #Gray image\n",
    "cv2.imshow(\"Gray Dog\",gray)\n",
    "\n",
    "explore = cv2.imread('dog.png',cv2.IMREAD_REDUCED_GRAYSCALE_8) #Just exploring for fun, this is a reduced size gray image \n",
    "cv2.imshow(\"Exploring new colors for my Dog\",explore)\n",
    "\n",
    "cv2.waitKey(0) #0 means the image will remain for infinite times, otherwise it is in mili seconds, for expamle 1000 means 1000 mili seconds i.e 1 second\n",
    "cv2.destroyAllWindows()"
   ]
  },
  {
   "cell_type": "code",
   "execution_count": null,
   "metadata": {},
   "outputs": [],
   "source": []
  }
 ],
 "metadata": {
  "kernelspec": {
   "display_name": "Python 3",
   "language": "python",
   "name": "python3"
  },
  "language_info": {
   "codemirror_mode": {
    "name": "ipython",
    "version": 3
   },
   "file_extension": ".py",
   "mimetype": "text/x-python",
   "name": "python",
   "nbconvert_exporter": "python",
   "pygments_lexer": "ipython3",
   "version": "3.7.3"
  }
 },
 "nbformat": 4,
 "nbformat_minor": 2
}
