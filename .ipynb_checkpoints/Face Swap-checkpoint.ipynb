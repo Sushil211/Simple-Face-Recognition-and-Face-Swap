{
 "cells": [
  {
   "cell_type": "code",
   "execution_count": 1,
   "metadata": {},
   "outputs": [],
   "source": [
    "import cv2\n",
    "cap = cv2.VideoCapture(0)\n",
    "classifier = cv2.CascadeClassifier('haarcascade_frontalface_alt.xml')\n",
    "\n",
    "while True:\n",
    "    ret, frame = cap.read()\n",
    "    \n",
    "    if ret == False:\n",
    "        continue\n",
    "    \n",
    "    faces = classifier.detectMultiScale(frame, 1.3, 5)\n",
    "    \n",
    "    if len(faces) == 0:\n",
    "        continue\n",
    "    elif len(faces) == 1:\n",
    "       cv2.imshow(\"Only one image\",frame)\n",
    "    else:\n",
    "        sorted_faces = sorted(faces, key = lambda f: f[2] * f[3])\n",
    "        \n",
    "        face1,face2 = sorted_faces[-2:]\n",
    "        \n",
    "        x1,y1,w1,h1 = face1\n",
    "        x2,y2,w2,h2 = face2\n",
    "        \n",
    "        cut1 = frame[y1:y1+h1, x1:x1+w1]\n",
    "        cut2 = frame[y2:y2+h2, x2:x2+w2]\n",
    "        \n",
    "        target_cut1 = cv2.resize(cut2, (cut1.shape[1], cut1.shape[0]))\n",
    "        target_cut2 = cv2.resize(cut1, (cut2.shape[1], cut2.shape[0]))\n",
    "        \n",
    "        frame[y1:y1+h1, x1:x1+w1] = target_cut1\n",
    "        frame[y2:y2+h2, x2:x2+w2] = target_cut2\n",
    "        \n",
    "        cv2.imshow(\"Swapped\", frame)\n",
    "        \n",
    "    key_pressed = cv2.waitKey(1) & (0xFF)\n",
    "    \n",
    "    if key_pressed == ord('q'):\n",
    "        break\n",
    "        \n",
    "cap.release()\n",
    "cv2.destroyAllWindows()"
   ]
  },
  {
   "cell_type": "code",
   "execution_count": null,
   "metadata": {},
   "outputs": [],
   "source": []
  }
 ],
 "metadata": {
  "kernelspec": {
   "display_name": "Python 3",
   "language": "python",
   "name": "python3"
  },
  "language_info": {
   "codemirror_mode": {
    "name": "ipython",
    "version": 3
   },
   "file_extension": ".py",
   "mimetype": "text/x-python",
   "name": "python",
   "nbconvert_exporter": "python",
   "pygments_lexer": "ipython3",
   "version": "3.7.3"
  }
 },
 "nbformat": 4,
 "nbformat_minor": 2
}
