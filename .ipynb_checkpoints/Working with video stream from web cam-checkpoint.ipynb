{
 "cells": [
  {
   "cell_type": "markdown",
   "metadata": {},
   "source": [
    "<h2>Read a video stream from camera frame by frame (each frame is an image)</h2>"
   ]
  },
  {
   "cell_type": "code",
   "execution_count": 2,
   "metadata": {},
   "outputs": [],
   "source": [
    "import cv2\n",
    "\n",
    "cap = cv2.VideoCapture(0) #Here we pass id as arguments, but if we want to work with default web-cams we pass 0 as argument\n",
    "                          #If we have multiple web-cams, then we must pass their id as argument\n",
    "    \n",
    "while True:\n",
    "    ret, frame = cap.read() #This method returns two values, a boolean value and a frame\n",
    "    gray_frame = cv2.cvtColor(frame,cv2.COLOR_BGR2GRAY)\n",
    "    \n",
    "    if ret == False: \n",
    "    #There can be multiple reasons for this such as image is not captured properly or the web-cam has not yet started etc.   \n",
    "        continue\n",
    "        \n",
    "    cv2.imshow(\"Video Frame\", frame)\n",
    "    cv2.imshow(\"Gray Frame\", gray_frame)\n",
    "    \n",
    "    #Wait for the user to quit i.e input -- q, then we will stop the loop\n",
    "    \n",
    "    key_pressed = cv2.waitKey(1) & (0xFF)\n",
    "    #waitkey(1) means the picture will wait for 1 mili second before starting the next iterations\n",
    "    \n",
    "    #So reason behind using & operator with (0xFF) here:\n",
    "    #cv2.waitKey(1) returns a 32 bit integer, but we know the ascii value of a character lies between 0 to 255. i.e 8 bit max\n",
    "    #So we are interested only with the last 8 bits of cv2.waitKey(1), so we perform bitwise & with 0xFF\n",
    "    #Note that ascii value of 0xFF is 255 i,e 1111 1111 in binary representation which is max number in 8 bit\n",
    "    \n",
    "    #Another point to note:\n",
    "    #When we use cv2.waitKey(0) that also means the program will stop when any key is pressed\n",
    "    #But here we want to sotp the program when only 'q' is pressed\n",
    "    \n",
    "    if key_pressed == ord('q'): #ord(char) gives the ascii value of that character, which is 113 in this case\n",
    "        break;\n",
    "        \n",
    "cap.release()\n",
    "cv2.destroyAllWindows()"
   ]
  },
  {
   "cell_type": "code",
   "execution_count": null,
   "metadata": {},
   "outputs": [],
   "source": []
  }
 ],
 "metadata": {
  "kernelspec": {
   "display_name": "Python 3",
   "language": "python",
   "name": "python3"
  },
  "language_info": {
   "codemirror_mode": {
    "name": "ipython",
    "version": 3
   },
   "file_extension": ".py",
   "mimetype": "text/x-python",
   "name": "python",
   "nbconvert_exporter": "python",
   "pygments_lexer": "ipython3",
   "version": "3.7.3"
  }
 },
 "nbformat": 4,
 "nbformat_minor": 2
}
