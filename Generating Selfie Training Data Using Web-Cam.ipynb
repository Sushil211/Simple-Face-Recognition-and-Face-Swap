{
 "cells": [
  {
   "cell_type": "markdown",
   "metadata": {},
   "source": [
    "<b>Write a Python Script that captures images from your webcam video stream</b><br>\n",
    "<b>Extracts all Faces from the image frame (using haarcascades)</b><br>\n",
    "<b>Stores the Face information into numpy arrays</b><br>\n",
    "\n",
    "<ol>\n",
    "    <li><b>Read and show video stream, capture images</b></li>\n",
    "    <li><b>Detect Faces and show bounding box (haarcascade)</b></li>\n",
    "    <li><b>Flatten the largest face image(gray scale) and save in a numpy array</b></li>\n",
    "    <li><b>Repeat the above for multiple people to generate training data</b></li>\n",
    "</ol>"
   ]
  },
  {
   "cell_type": "code",
   "execution_count": 1,
   "metadata": {},
   "outputs": [
    {
     "name": "stdout",
     "output_type": "stream",
     "text": [
      "Enter name of the person: Sunil\n",
      "1\n",
      "2\n",
      "3\n",
      "4\n",
      "5\n",
      "6\n",
      "7\n",
      "8\n",
      "9\n",
      "10\n",
      "11\n",
      "12\n",
      "13\n",
      "14\n",
      "15\n",
      "16\n",
      "17\n",
      "18\n",
      "19\n",
      "20\n",
      "21\n",
      "22\n",
      "23\n",
      "24\n",
      "25\n",
      "26\n",
      "27\n",
      "28\n",
      "29\n",
      "30\n",
      "31\n",
      "32\n",
      "33\n",
      "34\n",
      "35\n",
      "(35, 30000)\n",
      "Data Succesfully saved at ./Face_Data_Store/Sunil.npy\n"
     ]
    }
   ],
   "source": [
    "import cv2\n",
    "import numpy as np\n",
    "\n",
    "#Init camera\n",
    "cap = cv2.VideoCapture(0)\n",
    "\n",
    "#Face Detection\n",
    "face_cascade = cv2.CascadeClassifier(\"haarcascade_frontalface_alt.xml\")\n",
    "\n",
    "skip = 0\n",
    "face_data = [] #The list that stores all the face data\n",
    "dataset_path = './Face_Data_Store/'\n",
    "file_name = input(\"Enter name of the person: \")\n",
    "\n",
    "while True:\n",
    "    ret,frame = cap.read()\n",
    "    \n",
    "    if ret == False:\n",
    "        continue\n",
    "    \n",
    "    \n",
    "    faces = face_cascade.detectMultiScale(frame,1.3,5)\n",
    "    #print(faces) #This stores all the faces inside a list, note that a face consists of 4 components, (x,y,w,h)\n",
    "    if len(faces)==0:\n",
    "        continue\n",
    "    \n",
    "    #Now we need to store the largest face image, note that the area of a rectangle is height * breadth\n",
    "    #So in this case area = w * h i.e face[2] * face[3] and we need to sort according to this value\n",
    "    faces = sorted(faces, key = lambda f: f[2] * f[3])\n",
    "    \n",
    "    #Now let's iterate over the faces to put a rectangle alongside the face \n",
    "    \n",
    "    face_section = []\n",
    "    \n",
    "    for face in faces[-1:]: #Taking the last value as it is the largest value\n",
    "        x,y,w,h = face\n",
    "        cv2.rectangle(frame,(x,y),(x+w,y+h),(0,255,255),2)\n",
    "        \n",
    "        #Extract (Crop out the required face): Region of interest\n",
    "        offset = 10\n",
    "        face_section = frame[y-offset:y+h+offset, x-offset:x+w+offset] #Taking 10 pixels more form each side\n",
    "        face_section = cv2.resize(face_section, (100,100))\n",
    "        \n",
    "        skip += 1\n",
    "        if skip%10 == 0: #Capturing every 10th image\n",
    "            face_data.append(face_section)\n",
    "            print(len(face_data))\n",
    "        \n",
    "    face_section = np.asarray(face_section) #Note that cv2.imshow() needs an numpy array in it's argument\n",
    "                                            #So if we don't convert it into a numpy array, it will throw errors\n",
    "    cv2.imshow(\"Video Frame\",frame)  \n",
    "    cv2.imshow(\"Face Seciton\", face_section)\n",
    "    \n",
    "    key_pressed = cv2.waitKey(1) & (0xFF)\n",
    "    if key_pressed == ord('q'):\n",
    "        break\n",
    "        \n",
    "#Convert our face_data into a numpy array\n",
    "face_data = np.asarray(face_data)\n",
    "face_data = face_data.reshape((face_data.shape[0],-1))\n",
    "print(face_data.shape)\n",
    "\n",
    "#Save this data into file system\n",
    "np.save(dataset_path+file_name+'.npy',face_data)\n",
    "print(\"Data Succesfully saved at \"+dataset_path+file_name+'.npy')\n",
    "    \n",
    "cap.release()\n",
    "cv2.destroyAllWindows()"
   ]
  },
  {
   "cell_type": "code",
   "execution_count": 2,
   "metadata": {},
   "outputs": [],
   "source": [
    "\n",
    "#In order to load the saved numpy array and see the saved file\n",
    "X = np.load(\"./Face_Data_Store/Sunil.npy\")"
   ]
  },
  {
   "cell_type": "code",
   "execution_count": 3,
   "metadata": {},
   "outputs": [
    {
     "name": "stdout",
     "output_type": "stream",
     "text": [
      "[[ 70  91 109 ... 100 115 121]\n",
      " [ 60  90 108 ...  96 110 127]\n",
      " [ 67  98 113 ... 101 116 128]\n",
      " ...\n",
      " [109 109 109 ... 141 132 131]\n",
      " [106 106 106 ... 146 140 134]\n",
      " [113 113 113 ... 126  95  90]]\n"
     ]
    }
   ],
   "source": [
    "print(X)"
   ]
  },
  {
   "cell_type": "code",
   "execution_count": null,
   "metadata": {},
   "outputs": [],
   "source": []
  }
 ],
 "metadata": {
  "kernelspec": {
   "display_name": "Python 3",
   "language": "python",
   "name": "python3"
  },
  "language_info": {
   "codemirror_mode": {
    "name": "ipython",
    "version": 3
   },
   "file_extension": ".py",
   "mimetype": "text/x-python",
   "name": "python",
   "nbconvert_exporter": "python",
   "pygments_lexer": "ipython3",
   "version": "3.7.3"
  }
 },
 "nbformat": 4,
 "nbformat_minor": 2
}
